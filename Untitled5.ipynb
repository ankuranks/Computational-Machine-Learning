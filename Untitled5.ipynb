{
 "cells": [
  {
   "cell_type": "code",
   "execution_count": 55,
   "metadata": {
    "collapsed": false
   },
   "outputs": [
    {
     "name": "stdout",
     "output_type": "stream",
     "text": [
      "Compute grad prints\n",
      "[ 3.88518455  2.11580491  2.17307246]\n",
      "grad checker prints\n",
      "(3.8851845460685652, 2.1158049128144896, 2.1730724640134369)\n",
      "Output of my gradient descent\n"
     ]
    },
    {
     "data": {
      "image/png": "[encoded data removed]",
      "text/plain": [
       "<matplotlib.figure.Figure at 0x1f345c18>"
      ]
     },
     "metadata": {},
     "output_type": "display_data"
    },
    {
     "data": {
      "image/png": "[encoded data removed]",
      "text/plain": [
       "<matplotlib.figure.Figure at 0x1f2fafd0>"
      ]
     },
     "metadata": {},
     "output_type": "display_data"
    },
    {
     "name": "stdout",
     "output_type": "stream",
     "text": [
      "[  3.86971094e-01   1.62951579e-01   1.22409795e-04]\n"
     ]
    }
   ],
   "source": [
    "import numpy as np\n",
    "import matplotlib.pyplot as plt\n",
    "%matplotlib inline\n",
    "from sklearn.preprocessing import StandardScaler\n",
    "\n",
    "#Using Gradient calculation done above in markdown\n",
    "def compute_grad(w,dataset,z):\n",
    "    loss=0\n",
    "    h=0.4\n",
    "    C = 1\n",
    "    for i in range(len(dataset)):\n",
    "        x = dataset[i]\n",
    "        yt = z[i]*np.dot(x,w)\n",
    "        \"\"\"\n",
    "        if(yt>1+h):\n",
    "            loss+=0\n",
    "        elif(yt<1-h):\n",
    "            loss=-z[i]*x\n",
    "        else:\n",
    "            loss=-(z[i]*x*(i-yt+h))/(2*h)\n",
    "        \"\"\"\n",
    "        loss += 0 if yt>1+h else (-z[i]*x if yt<1-h else -z[i]*x*(1+h-yt)/(2*h))\n",
    "    val = 2*w+C*loss/len(dataset)\n",
    "    return val\n",
    "\n",
    "#Using Equation in Markdown above\n",
    "def compute_obj(w,dataset,z):\n",
    "    h=0.4\n",
    "    loss=0\n",
    "    C=1\n",
    "    for i in range(len(dataset)):\n",
    "        x = dataset[i]\n",
    "        yt = z[i]*np.dot(x,w)\n",
    "        loss += 0 if yt>1+h else (1-yt if yt<1-h else ((1+h-yt)**2)/(4*h))\n",
    "    val2 = np.dot(w,w)+C*loss/len(dataset)\n",
    "    return val2\n",
    "\n",
    "#Checking gradient\n",
    "def grad_checker(x,epsilon):\n",
    "    val3 = (compute_obj(w+epsilon*x,dataSet[0],dataSet[1]) - compute_obj(w-epsilon*x,dataSet[0],dataSet[1]))/(2*epsilon)\n",
    "    #print('grad checker prints')\n",
    "    #print(val3)\n",
    "    return val3\n",
    "\n",
    "#populating Gaussian\n",
    "def Gauss():\n",
    "    samples = 500\n",
    "    C = 1\n",
    "    maxiter = 1000\n",
    "    d = 2\n",
    "    np.random.seed(11112014)\n",
    "    s = StandardScaler()\n",
    "    C = np.array([[0., 0.07], [0.25, .89]])\n",
    "    X = np.r_[np.dot(np.random.randn(samples, d), C),np.dot(np.random.randn(samples, d), C) + np.array([1, 1])]\n",
    "    X_trans = s.fit_transform(X)\n",
    "    y_trans = np.hstack((-np.ones(samples), np.ones(samples)))\n",
    "    X_trans=np.column_stack([X_trans, np.ones([1000])])\n",
    "    return X_trans, y_trans\n",
    "\n",
    "\n",
    "#My Gradient Descent\n",
    "def my_gradient_descent(dataset,z,eta,maxiter=1000):\n",
    "    Objective=[]\n",
    "    MissClassification=[]\n",
    "    w=np.zeros(3)\n",
    "    for i in range(maxiter):\n",
    "        w=w- eta*compute_grad(w,dataset,z)\n",
    "        MissClassification.append( (np.dot(dataset,w)*z<0).sum())\n",
    "        Objective.append(compute_obj(w,dataset,z))\n",
    "    plt.plot(range(maxiter),Objective)\n",
    "    plt.title(\"Objective function vs iterations\")\n",
    "    plt.xlabel(\"iterations\")\n",
    "    plt.ylabel(\"objective function\")\n",
    "    plt.show()\n",
    "    plt.clf()\n",
    "    plt.plot(range(maxiter),MissClassification)\n",
    "    plt.title(\"missclassification error on training set vs iterations\")\n",
    "    plt.xlabel(\"iterations\")\n",
    "    plt.ylabel(\"missclassification error on training set\")\n",
    "    plt.xlim(0,50)\n",
    "    plt.show()    \n",
    "    return w\n",
    "\n",
    "dataSet = Gauss()\n",
    "w=np.zeros(3)\n",
    "np.dot(dataSet[0][0],w)*dataSet[0][1]<0\n",
    "w=np.array([2,1,1])\n",
    "print('Compute grad prints')\n",
    "print compute_grad(w,dataSet[0],dataSet[1])\n",
    "epsilon=10**-4\n",
    "print('grad checker prints')\n",
    "print(grad_checker(np.array([1,0,0]),epsilon),grad_checker(np.array([0,1,0]),epsilon),grad_checker(np.array([0,0,1]),epsilon))\n",
    "k=8\n",
    "print 'Output of my gradient descent'\n",
    "print (my_gradient_descent(dataSet[0],dataSet[1],eta=0.1*(1.1)**k))"
   ]
  },
  {
   "cell_type": "code",
   "execution_count": null,
   "metadata": {
    "collapsed": false
   },
   "outputs": [],
   "source": []
  },
  {
   "cell_type": "code",
   "execution_count": null,
   "metadata": {
    "collapsed": true
   },
   "outputs": [],
   "source": []
  }
 ],
 "metadata": {
  "kernelspec": {
   "display_name": "Python 2",
   "language": "python",
   "name": "python2"
  },
  "language_info": {
   "codemirror_mode": {
    "name": "ipython",
    "version": 2
   },
   "file_extension": ".py",
   "mimetype": "text/x-python",
   "name": "python",
   "nbconvert_exporter": "python",
   "pygments_lexer": "ipython2",
   "version": "2.7.10"
  }
 },
 "nbformat": 4,
 "nbformat_minor": 0
}

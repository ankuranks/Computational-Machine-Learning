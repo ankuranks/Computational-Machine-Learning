{
 "cells": [
  {
   "cell_type": "code",
   "execution_count": null,
   "metadata": {
    "collapsed": true
   },
   "outputs": [],
   "source": [
    "import numpy as np\n",
    "import matplotlib.pyplot as plt\n",
    "from sklearn.datasets.samples_generator import make_blobs\n",
    "from sklearn.preprocessing import StandardScaler\n",
    "from sklearn.datasets import load_iris\n",
    "from timeit import Timer\n",
    "from functools import partial\n",
    "from memory_profiler import memory_usage\n",
    "import timeit\n",
    "from sklearn.metrics.pairwise import pairwise_distances\n",
    "from sklearn.cluster import MiniBatchKMeans\n",
    "import psutil\n",
    "\n",
    "def onlineKmeans(dataSet,k=2,b=24,maxiter=1000):\n",
    "    centroids = dataSet[Permutations(k,len(dataSet))]\n",
    "    pointsPerClusters = np.zeros([k,1])\n",
    "    for i in range(maxiter):\n",
    "        M=dataSet[Permutations(b,len(dataSet))]\n",
    "        distances = pairwise_distances(M, centroids, metric='euclidean')\n",
    "        nearestCenters = np.argmin(distances, axis=1)\n",
    "        for iter, x in enumerate(M):\n",
    "            centerIndex = nearestCenters[iter]\n",
    "            pointsPerClusters[centerIndex] = pointsPerClusters[centerIndex] + 1\n",
    "            eta = 1/pointsPerClusters[centerIndex]\n",
    "            centroids[centerIndex] = (1 - eta)*centroids[centerIndex] + eta * x\n",
    "    return centroids\n",
    "def Permutations(noElements,range):\n",
    "    random_seed = 11112014\n",
    "    rng = np.random.RandomState(random_seed)\n",
    "    permutation = rng.permutation(range)\n",
    "    return permutation[:noElements]\n",
    "\n",
    "def profiler(function, *args, **kwargs):\n",
    "    #print \"args is \",args\n",
    "    start_time = timeit.default_timer()\n",
    "    memory, return_val = memory_usage((function, (args), kwargs), max_usage=True, retval=True)\n",
    "    timeElapsed = timeit.default_timer() - start_time\n",
    "    return memory[0], timeElapsed,return_val\n",
    "iris = load_iris()\n",
    "dataSet=iris.data\n",
    "random_seed = 11112014\n",
    "ranges = np.random.RandomState(random_seed)\n",
    "permutation = ranges.permutation(len(dataSet))\n",
    "dataSet=dataSet[permutation]\n",
    "mini=MiniBatchKMeans(n_clusters=2,max_iter=1000,batch_size=24)\n",
    "memory, time, rval = profiler(mini.fit,dataSet)\n",
    "ourMemory,ourTime,ourCentroids= profiler(onlineKmeans, dataSet, k=2, b=24, maxiter=1000)\n",
    "inputSize= [[2**6, 24],[2**8, 24],[2**10, 24],[2**12, 24]]                    \n",
    "scaler = StandardScaler()\n",
    "plt.clf()\n",
    "f1 = plt.figure()\n",
    "ax1 = f1.add_subplot(111)\n",
    "for num_samples, num_dimension in inputSize:\n",
    "    X,y = make_blobs(n_samples=num_samples, n_features=num_dimension, centers=6)\n",
    "    scaler.fit(dataSet)\n",
    "    dataSet_scaled = scaler.transform(dataSet)\n",
    "    ourMemory,ourTime,ourCentroids= profiler(onlineKmeans, dataSet, k=2, b=24, maxiter=1000)\n",
    "    memory, time, rval = profiler(mini.fit,dataSet)\n",
    "    plt.scatter(num_samples, memory,color=\"Green\")\n",
    "    #plt.pause(0.0001)\n",
    "plt.show()"
   ]
  }
 ],
 "metadata": {
  "kernelspec": {
   "display_name": "Python 2",
   "language": "python",
   "name": "python2"
  },
  "language_info": {
   "codemirror_mode": {
    "name": "ipython",
    "version": 2
   },
   "file_extension": ".py",
   "mimetype": "text/x-python",
   "name": "python",
   "nbconvert_exporter": "python",
   "pygments_lexer": "ipython2",
   "version": "2.7.10"
  }
 },
 "nbformat": 4,
 "nbformat_minor": 0
}

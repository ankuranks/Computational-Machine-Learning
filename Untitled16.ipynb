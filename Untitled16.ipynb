{
 "cells": [
  {
   "cell_type": "code",
   "execution_count": 1,
   "metadata": {
    "collapsed": false
   },
   "outputs": [
    {
     "name": "stdout",
     "output_type": "stream",
     "text": [
      "[[ 0.  0.  0.  0.  0.  0.  0.  0.  0.  0.  0.  0.  0.  0.  0.  0.  0.  0.\n",
      "   0.  0.  0.  0.  0.  0.  0.  0.  0.  0.  0.  0.  0.  0.  0.  0.  0.  0.\n",
      "   0.  0.  0.  0.  0.  0.  0.  0.  0.  0.  0.  0.  0.  0.  0.  0.  0.  0.\n",
      "   0.  0.  0.  0.  0.  0.  0.  0.  0.  0.  0.  0.  0.  0.  0.  0.  0.  0.\n",
      "   0.  0.  0.  0.  0.  0.  0.  0.  0.  0.  0.  0.  0.  0.  0.  0.  0.  0.\n",
      "   0.  0.  0.  0.  0.  0.  0.  0.  0.  0.  0.  0.  0.  0.  0.  0.  0.  0.\n",
      "   0.  0.  0.  0.  0.  0.  0.  0.  0.  0.  0.  0.  0.  0.  0.  0.  0.  0.\n",
      "   0.  0.]]\n"
     ]
    }
   ],
   "source": [
    "\n",
    "import numpy as np\n",
    "import urllib, urlparse\n",
    "import os\n",
    "from os import listdir\n",
    "from os.path import isfile, join\n",
    "\n",
    "def load_data():\n",
    "    mypath = 'C:/Anu';\n",
    "\n",
    "    data = np.zeros((1,128)) \n",
    "    data = np.matrix(data)\n",
    "    i = 0\n",
    "    j = 0\n",
    "    for f in listdir(mypath):\n",
    "        j = j + 1\n",
    "        if j % 10  == 0:\n",
    "            if isfile(join(mypath,f)):\n",
    "                with open(join(mypath,f)) as f1:\n",
    "                    for line in f1:\n",
    "                        if not line.isspace():\n",
    "                            floats = map(float, line.split())\n",
    "                            #print floats.shape\n",
    "                            floats = np.asarray(floats)\n",
    "                            # print floats.shape\n",
    "                            float1 = np.matrix(floats)\n",
    "                            #print float1.shape\n",
    "                            float1 = np.asarray(float1)\n",
    "                            #print f\n",
    "                            #print float1.shape\n",
    "                            if i > 0:\n",
    "                                data = np.concatenate((data,float1),axis=0)\n",
    "                            else:\n",
    "                                data[i,:] = float1\n",
    "                            #print i\n",
    "                            i += 1\n",
    "    return data\n",
    "    \n",
    "data_load = load_data()\n",
    "#load_data()\n",
    "print data_load"
   ]
  },
  {
   "cell_type": "code",
   "execution_count": null,
   "metadata": {
    "collapsed": true
   },
   "outputs": [],
   "source": []
  }
 ],
 "metadata": {
  "kernelspec": {
   "display_name": "Python 2",
   "language": "python",
   "name": "python2"
  },
  "language_info": {
   "codemirror_mode": {
    "name": "ipython",
    "version": 2
   },
   "file_extension": ".py",
   "mimetype": "text/x-python",
   "name": "python",
   "nbconvert_exporter": "python",
   "pygments_lexer": "ipython2",
   "version": "2.7.10"
  }
 },
 "nbformat": 4,
 "nbformat_minor": 0
}

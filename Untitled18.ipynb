{
 "cells": [
  {
   "cell_type": "code",
   "execution_count": 1,
   "metadata": {
    "collapsed": false
   },
   "outputs": [
    {
     "data": {
      "text/latex": [
       "$$F(k) = \\int_{-\\infty}^{\\infty} f(x) e^{2\\pi i k} dx$$"
      ],
      "text/plain": [
       "<IPython.core.display.Math object>"
      ]
     },
     "metadata": {},
     "output_type": "display_data"
    }
   ],
   "source": [
    "from IPython.display import display, Math, Latex\n",
    "display(Math(r'F(k) = \\int_{-\\infty}^{\\infty} f(x) e^{2\\pi i k} dx'))"
   ]
  },
  {
   "cell_type": "code",
   "execution_count": 5,
   "metadata": {
    "collapsed": false
   },
   "outputs": [
    {
     "data": {
      "text/latex": [
       "$$f(x) = w^Tx + b$$"
      ],
      "text/plain": [
       "<IPython.core.display.Math object>"
      ]
     },
     "metadata": {},
     "output_type": "display_data"
    }
   ],
   "source": [
    "display(Math('f(x) = w^Tx + b'))"
   ]
  },
  {
   "cell_type": "code",
   "execution_count": 7,
   "metadata": {
    "collapsed": false
   },
   "outputs": [
    {
     "ename": "SyntaxError",
     "evalue": "invalid syntax (<ipython-input-7-5a4f9ac42f13>, line 1)",
     "output_type": "error",
     "traceback": [
      "\u001b[1;36m  File \u001b[1;32m\"<ipython-input-7-5a4f9ac42f13>\"\u001b[1;36m, line \u001b[1;32m1\u001b[0m\n\u001b[1;33m    $$ \\begin{align} \\parallel f(z{1}) - f(z{2}) \\parallel =& \\parallel \\frac{ ((1+h)-z{1})^{2}}{4h} - \\frac{ ((1+h)-z{2})^{2}}{4h} \\parallel\\ =& \\parallel \\frac{(1+h)^{2}+z{1}^{2} - 2(1+h)(z{1}) - (1+h)^{2}-z{2}^{2} + 2(1+h)(z{2}) }{4h} \\parallel \\ =& \\parallel \\frac{z{1}^{2} - z{2}^{2} -2(1+h)(z{1} - z{2})}{4h} \\parallel \\ =& \\parallel \\frac{(z{1} - z{2})(z{1} + z{2} - 2(1+h))}{4h} \\parallel \\ =& \\parallel \\frac{-(1 - z{1})-(1 - z{2}) - 2h}{4h}(z{1} - z{2}) \\parallel \\ =& \\parallel K(z{1} - z{2})\\parallel \\ \\end{align} $\u001b[0m\n\u001b[1;37m    ^\u001b[0m\n\u001b[1;31mSyntaxError\u001b[0m\u001b[1;31m:\u001b[0m invalid syntax\n"
     ]
    }
   ],
   "source": [
    "$ \\begin{align} \\parallel f(z{1}) - f(z{2}) \\parallel =& \\parallel \\frac{ ((1+h)-z{1})^{2}}{4h} - \\frac{ ((1+h)-z{2})^{2}}{4h} \\parallel\\ =& \\parallel \\frac{(1+h)^{2}+z{1}^{2} - 2(1+h)(z{1}) - (1+h)^{2}-z{2}^{2} + 2(1+h)(z{2}) }{4h} \\parallel \\ =& \\parallel \\frac{z{1}^{2} - z{2}^{2} -2(1+h)(z{1} - z{2})}{4h} \\parallel \\ =& \\parallel \\frac{(z{1} - z{2})(z{1} + z{2} - 2(1+h))}{4h} \\parallel \\ =& \\parallel \\frac{-(1 - z{1})-(1 - z{2}) - 2h}{4h}(z{1} - z{2}) \\parallel \\ =& \\parallel K(z{1} - z{2})\\parallel \\ \\end{align} $"
   ]
  },
  {
   "cell_type": "code",
   "execution_count": 9,
   "metadata": {
    "collapsed": false
   },
   "outputs": [
    {
     "ename": "SyntaxError",
     "evalue": "invalid syntax (<ipython-input-9-a10cee8453bc>, line 1)",
     "output_type": "error",
     "traceback": [
      "\u001b[1;36m  File \u001b[1;32m\"<ipython-input-9-a10cee8453bc>\"\u001b[1;36m, line \u001b[1;32m1\u001b[0m\n\u001b[1;33m    $ \\begin{align} \\parallel f(z{1}) - f(z{2}) \\parallel =& \\parallel \\frac{ ((1+h)-z{1})^{2}}{4h} - \\frac{ ((1+h)-z{2})^{2}}{4h} \\parallel\\ =& \\parallel \\frac{(1+h)^{2}+z{1}^{2} - 2(1+h)(z{1}) - (1+h)^{2}-z{2}^{2} + 2(1+h)(z{2}) }{4h} \\parallel \\ =& \\parallel \\frac{z{1}^{2} - z{2}^{2} -2(1+h)(z{1} - z{2})}{4h} \\parallel \\ =& \\parallel \\frac{(z{1} - z{2})(z{1} + z{2} - 2(1+h))}{4h} \\parallel \\ =& \\parallel \\frac{-(1 - z{1})-(1 - z{2}) - 2h}{4h}(z{1} - z{2}) \\parallel \\  \\ end{align} $\u001b[0m\n\u001b[1;37m    ^\u001b[0m\n\u001b[1;31mSyntaxError\u001b[0m\u001b[1;31m:\u001b[0m invalid syntax\n"
     ]
    }
   ],
   "source": [
    "$ \\begin{align} \\parallel f(z{1}) - f(z{2}) \\parallel =& \\parallel \\frac{ ((1+h)-z{1})^{2}}{4h} - \\frac{ ((1+h)-z{2})^{2}}{4h} \\parallel\\ =& \\parallel \\frac{(1+h)^{2}+z{1}^{2} - 2(1+h)(z{1}) - (1+h)^{2}-z{2}^{2} + 2(1+h)(z{2}) }{4h} \\parallel \\ =& \\parallel \\frac{z{1}^{2} - z{2}^{2} -2(1+h)(z{1} - z{2})}{4h} \\parallel \\ =& \\parallel \\frac{(z{1} - z{2})(z{1} + z{2} - 2(1+h))}{4h} \\parallel \\ =& \\parallel \\frac{-(1 - z{1})-(1 - z{2}) - 2h}{4h}(z{1} - z{2}) \\parallel \\  \\ end{align} $"
   ]
  },
  {
   "cell_type": "code",
   "execution_count": 10,
   "metadata": {
    "collapsed": false
   },
   "outputs": [
    {
     "data": {
      "text/latex": [
       "$$min()$$"
      ],
      "text/plain": [
       "<IPython.core.display.Math object>"
      ]
     },
     "metadata": {},
     "output_type": "display_data"
    }
   ],
   "source": [
    "display(Math('min()'))"
   ]
  },
  {
   "cell_type": "code",
   "execution_count": null,
   "metadata": {
    "collapsed": true
   },
   "outputs": [],
   "source": [
    "%matplotlib nbagg\n",
    "import numpy as np\n",
    "import matplotlib.pyplot as plt\n",
    "from sklearn.datasets.samples_generator import make_blobs\n",
    "from sklearn.preprocessing import StandardScaler\n",
    "from sklearn.datasets import load_iris\n",
    "\n",
    "def getPermutation(totalRange,numberElements):\n",
    "    random_seed = 10312003\n",
    "    rng = np.random.RandomState(random_seed)\n",
    "    permutation = rng.permutation(totalRange)\n",
    "    return permutation[:numberElements]\n",
    "\n",
    "def onlineKmeans(X,k=3,b=30,maxiter=1000):\n",
    "    centroids = X[getPermutation(len(X),k)]\n",
    "    pointsPerClusters = np.zeros([k,1])\n",
    "    for i in range(maxiter):\n",
    "        M=X[getPermutation(len(X),b)]\n",
    "        distances = pairwise_distances(M, centroids, metric='euclidean')\n",
    "        nearestCenters = np.argmin(distances, axis=1)\n",
    "        for iter, x in enumerate(M):\n",
    "            centerIndex = nearestCenters[iter]\n",
    "            pointsPerClusters[centerIndex] = pointsPerClusters[centerIndex] + 1\n",
    "            eta = 1/pointsPerClusters[centerIndex]\n",
    "            centroids[centerIndex] = (1 - eta)*centroids[centerIndex] + eta * x\n",
    "\n",
    "    return centroids\n",
    "\n",
    "from timeit import Timer\n",
    "from functools import partial\n",
    "from memory_profiler import memory_usage\n",
    "import timeit\n",
    "from sklearn.metrics.pairwise import pairwise_distances\n",
    "\n",
    "def profile_memory_and_time(function, *args, **kwargs):\n",
    "    #print \"args is \",args\n",
    "    start_time = timeit.default_timer()\n",
    "    memory, return_val = memory_usage((function, (args), kwargs), max_usage=True, retval=True)\n",
    "    elapsed = timeit.default_timer() - start_time\n",
    "    return memory[0], elapsed,return_val\n",
    "\n",
    "iris = load_iris()\n",
    "X=iris.data\n",
    "random_seed = 10312003\n",
    "rng = np.random.RandomState(random_seed)\n",
    "permutation = rng.permutation(len(X))\n",
    "X = X[permutation]\n",
    "ourMemory,ourTime,ourCentroids= profile_memory_and_time(onlineKmeans, X, k=3, b=33, maxiter=1000)\n",
    "#print ourMemory,ourTime,ourCentroids\n",
    "\n",
    "from sklearn.cluster import MiniBatchKMeans\n",
    "minibatch=MiniBatchKMeans(n_clusters=3,max_iter=100,batch_size=33)\n",
    "memory, time, rval = profile_memory_and_time(minibatch.fit,X)\n",
    "#print memory, time, rval.cluster_centers_\n",
    "\n",
    "inputSizesToGenerate = [[2**8, 32],[2**10, 32],[2**12, 32],[2**14, 32]]\n",
    "                        #[2**16, 32],[2**18, 32],[2**20, 32],[2**22, 32]];\n",
    "                        #[2**24, 32],[2**26, 32],[2**28, 32],[2**30, 32],[2**32, 32]];\n",
    "\n",
    "scaler = StandardScaler()\n",
    "plt.ion()\n",
    "f1 = plt.figure()\n",
    "ax1 = f1.add_subplot(111)\n",
    "\n",
    "for num_samples, num_dimension in inputSizesToGenerate:\n",
    "    print \"Running for {0} samples of dimension {1}\".format(num_samples, num_dimension)\n",
    "    X,y = make_blobs(n_samples=num_samples, n_features=num_dimension, centers=6)\n",
    "    #print \"Mean before scaling :\\n%s\"%X.mean(axis=0)\n",
    "    scaler.fit(X)\n",
    "    X_scaled = scaler.transform(X)\n",
    "    #print \"Mean after scaling :\\n%s\"%X_scaled.mean(axis=0)\n",
    "    #print \"Mean after scaling :\\n%s\"%X.mean(axis=0)\n",
    "    # run onlinekmeans and scikitkmeans\n",
    "    \n",
    "    ourMemory,ourTime,ourCentroids= profile_memory_and_time(onlineKmeans, X, k=3, b=33, maxiter=1000)\n",
    "    #print  ourMemory,ourTime,ourCentroids\n",
    "    memory, time, rval = profile_memory_and_time(minibatch.fit,X)\n",
    "    #print  memory, time, rval.cluster_centers_\n",
    "    #plt.scatter(num_samples, ourMemory,color=\"green\")\n",
    "    plt.scatter(num_samples, memory,color=\"red\")\n",
    "    plt.show()\n",
    "    plt.savefig('memory.png')"
   ]
  },
  {
   "cell_type": "code",
   "execution_count": null,
   "metadata": {
    "collapsed": true
   },
   "outputs": [],
   "source": []
  }
 ],
 "metadata": {
  "kernelspec": {
   "display_name": "Python 2",
   "language": "python",
   "name": "python2"
  },
  "language_info": {
   "codemirror_mode": {
    "name": "ipython",
    "version": 2
   },
   "file_extension": ".py",
   "mimetype": "text/x-python",
   "name": "python",
   "nbconvert_exporter": "python",
   "pygments_lexer": "ipython2",
   "version": "2.7.10"
  }
 },
 "nbformat": 4,
 "nbformat_minor": 0
}

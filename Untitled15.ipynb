{
 "cells": [
  {
   "cell_type": "code",
   "execution_count": null,
   "metadata": {
    "collapsed": true
   },
   "outputs": [],
   "source": [
    "import numpy as np\n",
    "import cv2\n",
    "from scipy.spatial.distance import cdist\n",
    "from scipy.spatial.distance import euclidean\n",
    "import math\n",
    "import os\n",
    "import time\n",
    "import argparse\n",
    "import cPickle\n",
    "import glob\n",
    "import cv2\n",
    "from sklearn.preprocessing import scale\n",
    "from sklearn import preprocessing\n",
    "from sklearn.preprocessing import scale\n",
    "from sklearn.metrics.pairwise import pairwise_distances\n",
    "from sklearn.neighbors import LSHForest as LSHForest\n",
    "\n",
    "\n",
    "\n",
    "class VLAD:\n",
    "\tdef __init__(self, index):\n",
    "\t\t# store our index of images\n",
    "\t\tself.index = index\n",
    " \n",
    "\tdef my_vlad(self, queryFeatures):\n",
    "\t\t# initialize our dictionary of results\n",
    "\t\tresults = {}\n",
    " \n",
    "\t\t# loop over the index\n",
    "\t\tfor (k, features) in self.index.items():\n",
    "\t\t\t# compute the chi-squared distance between the features\n",
    "\t\t\t# in our index and our query features -- using the\n",
    "\t\t\t# chi-squared distance which is normally used in the\n",
    "\t\t\t# computer vision field to compare histograms\n",
    "\t\t\td = self.chi2_distance(features, queryFeatures)\n",
    " \n",
    "\t\t\t# now that we have the distance between the two feature\n",
    "\t\t\t# vectors, we can udpate the results dictionary -- the\n",
    "\t\t\t# key is the current image ID in the index and the\n",
    "\t\t\t# value is the distance we just computed, representing\n",
    "\t\t\t# how 'similar' the image in the index is to our query\n",
    "\t\t\tresults[k] = d\n",
    " \n",
    "\t\t# sort our results, so that the smaller distances (i.e. the\n",
    "\t\t# more relevant images are at the front of the list)\n",
    "\t\tresults = sorted([(v, k) for (k, v) in results.items()])\n",
    " \n",
    "\t\t# return our results\n",
    "\t\treturn results\n",
    " \n",
    "\tdef chi2_distance(self, histA, histB, eps = 1e-10):\n",
    "\t\t# compute the chi-squared distance\n",
    "\t\td = 0.5 * np.sum([((a - b) ** 2) / (a + b + eps)\n",
    "\t\t\tfor (a, b) in zip(histA, histB)])\n",
    " \n",
    "\t\t# return the chi-squared distance\n",
    "\t\treturn d"
   ]
  }
 ],
 "metadata": {
  "kernelspec": {
   "display_name": "Python 2",
   "language": "python",
   "name": "python2"
  },
  "language_info": {
   "codemirror_mode": {
    "name": "ipython",
    "version": 2
   },
   "file_extension": ".py",
   "mimetype": "text/x-python",
   "name": "python",
   "nbconvert_exporter": "python",
   "pygments_lexer": "ipython2",
   "version": "2.7.10"
  }
 },
 "nbformat": 4,
 "nbformat_minor": 0
}

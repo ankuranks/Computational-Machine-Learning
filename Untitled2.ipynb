{
 "cells": [
  {
   "cell_type": "code",
   "execution_count": null,
   "metadata": {
    "collapsed": true
   },
   "outputs": [],
   "source": [
    "from load_data import load_data\n",
    "content = load_data()\n",
    "\n",
    "content = preprocessing.scale(content,axis = 0, with_mean=True, with_std=True)\n",
    "centroids = learnvocabulary(content,100,10)\n",
    "fvector = bof_data(centroids,10)\n",
    "from sklearn.neighbors import KNeighborsClassifier\n",
    "neigh = KNeighborsClassifier(n_neighbors=3)\n",
    "fvector1 = bof_data(centroids,51)\n",
    "neigh.fit(f_vector, fvector1) "
   ]
  }
 ],
 "metadata": {
  "kernelspec": {
   "display_name": "Python 2",
   "language": "python",
   "name": "python2"
  },
  "language_info": {
   "codemirror_mode": {
    "name": "ipython",
    "version": 2
   },
   "file_extension": ".py",
   "mimetype": "text/x-python",
   "name": "python",
   "nbconvert_exporter": "python",
   "pygments_lexer": "ipython2",
   "version": "2.7.10"
  }
 },
 "nbformat": 4,
 "nbformat_minor": 0
}
